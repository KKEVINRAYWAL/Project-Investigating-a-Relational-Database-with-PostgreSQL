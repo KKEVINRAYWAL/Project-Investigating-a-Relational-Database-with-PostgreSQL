{
 "cells": [
  {
   "cell_type": "markdown",
   "metadata": {},
   "source": []
  },
  {
   "cell_type": "code",
   "execution_count": 1,
   "metadata": {},
   "outputs": [],
   "source": [
    "import psycopg2\n",
    "import pandas as pd\n",
    "import matplotlib.pyplot as plt"
   ]
  },
  {
   "cell_type": "code",
   "execution_count": 3,
   "metadata": {},
   "outputs": [
    {
     "ename": "OperationalError",
     "evalue": "connection to server at \"localhost\" (::1), port 5432 failed: FATAL:  password authentication failed for user \"postgres\"\n",
     "output_type": "error",
     "traceback": [
      "\u001b[1;31m---------------------------------------------------------------------------\u001b[0m",
      "\u001b[1;31mOperationalError\u001b[0m                          Traceback (most recent call last)",
      "Cell \u001b[1;32mIn [3], line 72\u001b[0m\n\u001b[0;32m     64\u001b[0m db_params \u001b[38;5;241m=\u001b[39m {\n\u001b[0;32m     65\u001b[0m     \u001b[38;5;124m'\u001b[39m\u001b[38;5;124mhost\u001b[39m\u001b[38;5;124m'\u001b[39m: \u001b[38;5;124m'\u001b[39m\u001b[38;5;124mlocalhost\u001b[39m\u001b[38;5;124m'\u001b[39m,\n\u001b[0;32m     66\u001b[0m     \u001b[38;5;124m'\u001b[39m\u001b[38;5;124mdatabase\u001b[39m\u001b[38;5;124m'\u001b[39m: \u001b[38;5;124m'\u001b[39m\u001b[38;5;124mdvdrental\u001b[39m\u001b[38;5;124m'\u001b[39m,\n\u001b[0;32m     67\u001b[0m     \u001b[38;5;124m'\u001b[39m\u001b[38;5;124muser\u001b[39m\u001b[38;5;124m'\u001b[39m: \u001b[38;5;124m'\u001b[39m\u001b[38;5;124mpostgres\u001b[39m\u001b[38;5;124m'\u001b[39m,\n\u001b[0;32m     68\u001b[0m     \u001b[38;5;124m'\u001b[39m\u001b[38;5;124mpassword\u001b[39m\u001b[38;5;124m'\u001b[39m: \u001b[38;5;124m'\u001b[39m\u001b[38;5;124mroot\u001b[39m\u001b[38;5;124m'\u001b[39m,\n\u001b[0;32m     69\u001b[0m }\n\u001b[0;32m     71\u001b[0m \u001b[38;5;66;03m# Call the function to generate and display the visualization\u001b[39;00m\n\u001b[1;32m---> 72\u001b[0m \u001b[43mvisualize_genre_popularity\u001b[49m\u001b[43m(\u001b[49m\u001b[43mdb_params\u001b[49m\u001b[43m)\u001b[49m\n",
      "Cell \u001b[1;32mIn [3], line 3\u001b[0m, in \u001b[0;36mvisualize_genre_popularity\u001b[1;34m(db_params)\u001b[0m\n\u001b[0;32m      1\u001b[0m \u001b[38;5;28;01mdef\u001b[39;00m \u001b[38;5;21mvisualize_genre_popularity\u001b[39m(db_params):\n\u001b[0;32m      2\u001b[0m     \u001b[38;5;66;03m# Establish a connection to the PostgreSQL database\u001b[39;00m\n\u001b[1;32m----> 3\u001b[0m     conn \u001b[38;5;241m=\u001b[39m psycopg2\u001b[38;5;241m.\u001b[39mconnect(\u001b[38;5;241m*\u001b[39m\u001b[38;5;241m*\u001b[39mdb_params)\n\u001b[0;32m      5\u001b[0m     \u001b[38;5;66;03m# SQL query to retrieve the data\u001b[39;00m\n\u001b[0;32m      6\u001b[0m     query \u001b[38;5;241m=\u001b[39m \u001b[38;5;124m\"\"\"\u001b[39m\n\u001b[0;32m      7\u001b[0m \u001b[38;5;124m    WITH GenreRentals AS (\u001b[39m\n\u001b[0;32m      8\u001b[0m \u001b[38;5;124m        SELECT\u001b[39m\n\u001b[1;32m   (...)\u001b[0m\n\u001b[0;32m     42\u001b[0m \u001b[38;5;124m        total_rentals_per_genre DESC;\u001b[39m\n\u001b[0;32m     43\u001b[0m \u001b[38;5;124m    \u001b[39m\u001b[38;5;124m\"\"\"\u001b[39m\n",
      "File \u001b[1;32m~\\anaconda3\\lib\\site-packages\\psycopg2\\__init__.py:122\u001b[0m, in \u001b[0;36mconnect\u001b[1;34m(dsn, connection_factory, cursor_factory, **kwargs)\u001b[0m\n\u001b[0;32m    119\u001b[0m     kwasync[\u001b[38;5;124m'\u001b[39m\u001b[38;5;124masync_\u001b[39m\u001b[38;5;124m'\u001b[39m] \u001b[38;5;241m=\u001b[39m kwargs\u001b[38;5;241m.\u001b[39mpop(\u001b[38;5;124m'\u001b[39m\u001b[38;5;124masync_\u001b[39m\u001b[38;5;124m'\u001b[39m)\n\u001b[0;32m    121\u001b[0m dsn \u001b[38;5;241m=\u001b[39m _ext\u001b[38;5;241m.\u001b[39mmake_dsn(dsn, \u001b[38;5;241m*\u001b[39m\u001b[38;5;241m*\u001b[39mkwargs)\n\u001b[1;32m--> 122\u001b[0m conn \u001b[38;5;241m=\u001b[39m _connect(dsn, connection_factory\u001b[38;5;241m=\u001b[39mconnection_factory, \u001b[38;5;241m*\u001b[39m\u001b[38;5;241m*\u001b[39mkwasync)\n\u001b[0;32m    123\u001b[0m \u001b[38;5;28;01mif\u001b[39;00m cursor_factory \u001b[38;5;129;01mis\u001b[39;00m \u001b[38;5;129;01mnot\u001b[39;00m \u001b[38;5;28;01mNone\u001b[39;00m:\n\u001b[0;32m    124\u001b[0m     conn\u001b[38;5;241m.\u001b[39mcursor_factory \u001b[38;5;241m=\u001b[39m cursor_factory\n",
      "\u001b[1;31mOperationalError\u001b[0m: connection to server at \"localhost\" (::1), port 5432 failed: FATAL:  password authentication failed for user \"postgres\"\n"
     ]
    }
   ],
   "source": [
    "def visualize_genre_popularity(db_params):\n",
    "    # Establish a connection to the PostgreSQL database\n",
    "    conn = psycopg2.connect(**db_params)\n",
    "    \n",
    "    # SQL query to retrieve the data\n",
    "    query = \"\"\"\n",
    "    WITH GenreRentals AS (\n",
    "        SELECT\n",
    "            c.customer_id,\n",
    "            fc.category_id,\n",
    "            COUNT(r.rental_id) AS rental_count\n",
    "        FROM\n",
    "            rental r\n",
    "        JOIN\n",
    "            inventory i ON r.inventory_id = i.inventory_id\n",
    "        JOIN\n",
    "            film f ON i.film_id = f.film_id\n",
    "        JOIN\n",
    "            customer c ON r.customer_id = c.customer_id\n",
    "        JOIN\n",
    "            film_category fc ON f.film_id = fc.film_id\n",
    "        GROUP BY\n",
    "            c.customer_id,\n",
    "            fc.category_id\n",
    "    )\n",
    "    SELECT\n",
    "        gr.category_id,\n",
    "        cat.name AS movie_genre,\n",
    "        SUM(gr.rental_count) AS total_rentals_per_genre,\n",
    "        ROUND(SUM(gr.rental_count) * 100.0 / (SELECT COUNT(*) FROM rental), 2) AS percentage_of_total_rentals,\n",
    "        AVG(EXTRACT(YEAR FROM AGE(c.create_date))) AS average_customer_age\n",
    "    FROM\n",
    "        GenreRentals gr\n",
    "    JOIN\n",
    "        category cat ON gr.category_id = cat.category_id\n",
    "    JOIN\n",
    "        customer c ON gr.customer_id = c.customer_id\n",
    "    GROUP BY\n",
    "        gr.category_id,\n",
    "        cat.name\n",
    "    ORDER BY\n",
    "        total_rentals_per_genre DESC;\n",
    "    \"\"\"\n",
    "    \n",
    "    # Use pandas to execute the query and load the results into a DataFrame\n",
    "    df = pd.read_sql_query(query, conn)\n",
    "    \n",
    "    # Close the database connection\n",
    "    conn.close()\n",
    "    \n",
    "    # Create the visualization\n",
    "    plt.figure(figsize=(10, 8))\n",
    "    plt.barh(df['movie_genre'], df['percentage_of_total_rentals'])\n",
    "    plt.xlabel('Percentage of Total Rentals')\n",
    "    plt.ylabel('Movie Genres')\n",
    "    plt.title('Genre Popularity Comparison')\n",
    "    plt.gca().invert_yaxis()  # Invert y-axis to have the highest popularity on top\n",
    "    plt.tight_layout()\n",
    "\n",
    "    # Display the chart\n",
    "    plt.show()\n",
    "\n",
    "# Define the database parameters\n",
    "db_params = {\n",
    "    'host': 'localhost',\n",
    "    'database': 'dvdrental',\n",
    "    'user': 'postgres',\n",
    "    'password': 'root',\n",
    "}\n",
    "\n",
    "# Call the function to generate and display the visualization\n",
    "visualize_genre_popularity(db_params)\n"
   ]
  },
  {
   "cell_type": "code",
   "execution_count": null,
   "metadata": {},
   "outputs": [],
   "source": []
  }
 ],
 "metadata": {
  "kernelspec": {
   "display_name": "Python 3 (ipykernel)",
   "language": "python",
   "name": "python3"
  },
  "language_info": {
   "codemirror_mode": {
    "name": "ipython",
    "version": 3
   },
   "file_extension": ".py",
   "mimetype": "text/x-python",
   "name": "python",
   "nbconvert_exporter": "python",
   "pygments_lexer": "ipython3",
   "version": "3.9.12"
  }
 },
 "nbformat": 4,
 "nbformat_minor": 2
}
